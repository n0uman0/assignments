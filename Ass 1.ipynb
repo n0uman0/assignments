{
 "cells": [
  {
   "cell_type": "code",
   "execution_count": null,
   "metadata": {},
   "outputs": [
    {
     "name": "stdout",
     "output_type": "stream",
     "text": [
      "Twinkle, twinkle, little star,\n",
      "\t How I wonder what you are!\n",
      "\t\t Up above the world so high,\n",
      "\t\t Like a diamond in the sky.\n",
      "Twinkle, twinkle, little star,\n",
      "\t How I wonder what you are\n",
      "3.7.4 (default, Aug  9 2019, 18:34:13) [MSC v.1915 64 bit (AMD64)]\n",
      "2019-12-01 22:14:27.939905\n"
     ]
    }
   ],
   "source": [
    "import sys;\n",
    "import datetime;\n",
    "from math import pi;\n",
    "\n",
    "# No. 1: Write a Python program to print the following string in a specific format\n",
    "#Start\n",
    "\n",
    "stringToPrint = \"\"\"Twinkle, twinkle, little star,\n",
    "\\t How I wonder what you are!\n",
    "\\t\\t Up above the world so high,\n",
    "\\t\\t Like a diamond in the sky.\n",
    "Twinkle, twinkle, little star,\n",
    "\\t How I wonder what you are\"\"\"\n",
    "\n",
    "print (stringToPrint);\n",
    "\n",
    "#End\n",
    "\n",
    "# No. 2: Write a Python program to get the Python version you are using\n",
    "#Start\n",
    "\n",
    "print(sys.version);\n",
    "\n",
    "#End\n",
    "\n",
    "\n",
    "# No. 3: Write a Python program to display the current date and time.\n",
    "#Start\n",
    "\n",
    "currentDateAndTime = datetime.datetime.now();\n",
    "print(currentDateAndTime); \n",
    "\n",
    "#End\n",
    "\n",
    "# No. 4: Write a Python program which accepts the radius of a circle from the user\n",
    "# and compute the area.\n",
    "#Start\n",
    "\n",
    "radius = float(input(\"Insert the radius of the circle : \"));\n",
    "calculateTheArea = pi*radius**2;\n",
    "\n",
    "print(\"The area of circle with radius \" + str(radius) + \" is :\" + str(calculateTheArea));\n",
    "\n",
    "#End\n",
    "\n",
    "\n",
    "# No. 5: Write a Python program which accepts the user's first and last name and\n",
    "# print them in reverse order with a space between them.\n",
    "#Start\n",
    "\n",
    "firstName = str(input(\"Enter your first name\"));\n",
    "lastName = str(input(\"Enter your last name\"));\n",
    "\n",
    "print(lastName+\" \"+firstName);\n",
    "\n",
    "#End\n",
    "\n",
    "\n",
    "# No. 6: Write a python program which takes two inputs from user and print them\n",
    "# addition\n",
    "#Start\n",
    "\n",
    "value1 = float(input(\"Enter first value\"));\n",
    "value2 = float(input(\"Enter second value\"));\n",
    "\n",
    "print(value1+value2);\n",
    "\n",
    "#End"
   ]
  },
  {
   "cell_type": "code",
   "execution_count": null,
   "metadata": {},
   "outputs": [],
   "source": []
  }
 ],
 "metadata": {
  "kernelspec": {
   "display_name": "Python 3",
   "language": "python",
   "name": "python3"
  },
  "language_info": {
   "codemirror_mode": {
    "name": "ipython",
    "version": 3
   },
   "file_extension": ".py",
   "mimetype": "text/x-python",
   "name": "python",
   "nbconvert_exporter": "python",
   "pygments_lexer": "ipython3",
   "version": "3.7.4"
  }
 },
 "nbformat": 4,
 "nbformat_minor": 2
}
