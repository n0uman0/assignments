{
 "cells": [
  {
   "cell_type": "code",
   "execution_count": 1,
   "metadata": {},
   "outputs": [
    {
     "name": "stdout",
     "output_type": "stream",
     "text": [
      "<function createTodoList at 0x000001CFF9024C18>\n"
     ]
    }
   ],
   "source": [
    "def createTodoList(name):\n",
    "    return name\n",
    "print(createTodoList('Test'))"
   ]
  },
  {
   "cell_type": "code",
   "execution_count": 2,
   "metadata": {},
   "outputs": [
    {
     "name": "stdout",
     "output_type": "stream",
     "text": [
      "Test\n"
     ]
    }
   ],
   "source": [
    "def createTodoList(name):\n",
    "    return name\n",
    "print(createTodoList('Test'))"
   ]
  },
  {
   "cell_type": "code",
   "execution_count": 3,
   "metadata": {},
   "outputs": [
    {
     "name": "stdout",
     "output_type": "stream",
     "text": [
      "[None, None, None, None, None, None, None, None, None, None]\n"
     ]
    }
   ],
   "source": [
    "def createTodoList(name):\n",
    "    name = [None]*10\n",
    "    return name\n",
    "print(createTodoList('Test'))"
   ]
  },
  {
   "cell_type": "code",
   "execution_count": 4,
   "metadata": {},
   "outputs": [
    {
     "name": "stdout",
     "output_type": "stream",
     "text": [
      "[]\n"
     ]
    }
   ],
   "source": [
    "def createTodoList(name):\n",
    "    name = []\n",
    "    return name\n",
    "print(createTodoList('Test'))"
   ]
  },
  {
   "cell_type": "code",
   "execution_count": 6,
   "metadata": {},
   "outputs": [
    {
     "ename": "SyntaxError",
     "evalue": "invalid syntax (<ipython-input-6-bb8071ca695d>, line 1)",
     "output_type": "error",
     "traceback": [
      "\u001b[1;36m  File \u001b[1;32m\"<ipython-input-6-bb8071ca695d>\"\u001b[1;36m, line \u001b[1;32m1\u001b[0m\n\u001b[1;33m    def addItemInList(name)\u001b[0m\n\u001b[1;37m                           ^\u001b[0m\n\u001b[1;31mSyntaxError\u001b[0m\u001b[1;31m:\u001b[0m invalid syntax\n"
     ]
    }
   ],
   "source": [
    "def addItemInList(name)\n",
    "    the_list = []\n",
    "    the_list.append(name)\n",
    "    return the_list\n",
    "\n",
    "print(addItemInList('Test'))"
   ]
  },
  {
   "cell_type": "code",
   "execution_count": 7,
   "metadata": {},
   "outputs": [
    {
     "ename": "SyntaxError",
     "evalue": "invalid syntax (<ipython-input-7-4f90f336c3b1>, line 1)",
     "output_type": "error",
     "traceback": [
      "\u001b[1;36m  File \u001b[1;32m\"<ipython-input-7-4f90f336c3b1>\"\u001b[1;36m, line \u001b[1;32m1\u001b[0m\n\u001b[1;33m    def addItem(name)\u001b[0m\n\u001b[1;37m                     ^\u001b[0m\n\u001b[1;31mSyntaxError\u001b[0m\u001b[1;31m:\u001b[0m invalid syntax\n"
     ]
    }
   ],
   "source": [
    "def addItem(name)\n",
    "    the_list = []\n",
    "    the_list.append(name)\n",
    "    return the_list\n",
    "\n",
    "print(addItem('Test'))"
   ]
  },
  {
   "cell_type": "code",
   "execution_count": 8,
   "metadata": {},
   "outputs": [
    {
     "ename": "SyntaxError",
     "evalue": "invalid syntax (<ipython-input-8-badbd4efd54e>, line 1)",
     "output_type": "error",
     "traceback": [
      "\u001b[1;36m  File \u001b[1;32m\"<ipython-input-8-badbd4efd54e>\"\u001b[1;36m, line \u001b[1;32m1\u001b[0m\n\u001b[1;33m    def addItem(name)\u001b[0m\n\u001b[1;37m                     ^\u001b[0m\n\u001b[1;31mSyntaxError\u001b[0m\u001b[1;31m:\u001b[0m invalid syntax\n"
     ]
    }
   ],
   "source": [
    "def addItem(name)\n",
    "    the_list = []\n",
    "    the_list.append(name)\n",
    "    return 'done'\n",
    "\n",
    "\n",
    "print(addItem('Test'))"
   ]
  },
  {
   "cell_type": "code",
   "execution_count": 9,
   "metadata": {},
   "outputs": [
    {
     "name": "stdout",
     "output_type": "stream",
     "text": [
      "['Test']\n"
     ]
    }
   ],
   "source": [
    "def addItem(name):\n",
    "    the_list = []\n",
    "    the_list.append(name)\n",
    "    return the_list\n",
    "\n",
    "itemToAdd = input(\"Enter a item name: \")\n",
    "\n",
    "print(addItem('Test'))"
   ]
  },
  {
   "cell_type": "code",
   "execution_count": 10,
   "metadata": {},
   "outputs": [
    {
     "name": "stdout",
     "output_type": "stream",
     "text": [
      "Enter a item name to add in list: Testing\n",
      "['Testing']\n"
     ]
    }
   ],
   "source": [
    "the_list = []\n",
    "\n",
    "def addItem(name):\n",
    "    the_list.append(name)\n",
    "    return the_list\n",
    "\n",
    "itemToAdd = input(\"Enter a item name to add in list: \")\n",
    "print(addItem(itemToAdd))"
   ]
  },
  {
   "cell_type": "code",
   "execution_count": 11,
   "metadata": {},
   "outputs": [
    {
     "name": "stdout",
     "output_type": "stream",
     "text": [
      "Enter a item name to add in list: Testing\n",
      "None\n"
     ]
    }
   ],
   "source": [
    "the_list = []\n",
    "\n",
    "def addItem(name):\n",
    "    the_list.append(name)\n",
    "    return 'Item successfully added'\n",
    "\n",
    "def viewList(list_name):\n",
    "    for x in list_name:\n",
    "        print(x) \n",
    "\n",
    "itemToAdd = input(\"Enter a item name to add in list: \")\n",
    "addItem(itemToAdd);\n",
    "print(viewList(the_list))"
   ]
  },
  {
   "cell_type": "code",
   "execution_count": 12,
   "metadata": {},
   "outputs": [
    {
     "name": "stdout",
     "output_type": "stream",
     "text": [
      "Enter a item name to add in list: Tttt\n",
      "Tttt\n",
      "None\n"
     ]
    }
   ],
   "source": [
    "the_list = []\n",
    "\n",
    "def addItem(name):\n",
    "    the_list.append(name)\n",
    "    return 'Item successfully added'\n",
    "\n",
    "def viewList(list_name):\n",
    "    for x in list_name:\n",
    "        print(x) \n",
    "\n",
    "itemToAdd = input(\"Enter a item name to add in list: \")\n",
    "addItem(itemToAdd);\n",
    "print(viewList(the_list))"
   ]
  },
  {
   "cell_type": "code",
   "execution_count": 13,
   "metadata": {},
   "outputs": [
    {
     "name": "stdout",
     "output_type": "stream",
     "text": [
      "Enter a item name to add in list: TTTESTTT\n",
      "TTTESTTT\n",
      "None\n"
     ]
    }
   ],
   "source": [
    "the_list = []\n",
    "\n",
    "def addItem(name):\n",
    "    the_list.append(name)\n",
    "    return 'Item successfully added'\n",
    "\n",
    "def viewList(list_name):\n",
    "    for x in list_name:\n",
    "        print(x) \n",
    "\n",
    "itemToAdd = input(\"Enter a item name to add in list: \")\n",
    "\n",
    "addItem(itemToAdd);\n",
    "\n",
    "print(viewList(the_list))"
   ]
  },
  {
   "cell_type": "code",
   "execution_count": 14,
   "metadata": {},
   "outputs": [
    {
     "ename": "IndentationError",
     "evalue": "expected an indented block (<ipython-input-14-c4555889c030>, line 7)",
     "output_type": "error",
     "traceback": [
      "\u001b[1;36m  File \u001b[1;32m\"<ipython-input-14-c4555889c030>\"\u001b[1;36m, line \u001b[1;32m7\u001b[0m\n\u001b[1;33m    print(x)\u001b[0m\n\u001b[1;37m        ^\u001b[0m\n\u001b[1;31mIndentationError\u001b[0m\u001b[1;31m:\u001b[0m expected an indented block\n"
     ]
    }
   ],
   "source": [
    "def addItem(name):\n",
    "    the_list.append(name)\n",
    "    return the_list\n",
    "\n",
    "def viewList(list_name):\n",
    "    for x in list_name:\n",
    "        print(x)\n",
    "    \n",
    "def clearList(list_name):\n",
    "    return list_name.clear()\n",
    "\n",
    "i=0\n",
    "\n",
    "while i > 0 :\n",
    "    the_list = []\n",
    "    \n",
    "    operation = int(input(\"Enter 1 to add new item, 2 to view list, 3 to clear list and 4 to exit\"))\n",
    "    \n",
    "    if operation == 1:\n",
    "        itemToAdd = input(\"Enter Item\")\n",
    "        addItem(itemToAdd)\n",
    "        \n",
    "    elif operation == 2:\n",
    "        viewList(the_list)\n",
    "                \n",
    "    elif operation == 3:\n",
    "        clearList(the_list)\n",
    "        print(\"List cleared!\")\n",
    "    \n",
    "    elif operation == 4:\n",
    "        i=1"
   ]
  },
  {
   "cell_type": "code",
   "execution_count": 16,
   "metadata": {},
   "outputs": [],
   "source": [
    "def addItem(name):\n",
    "    the_list.append(name)\n",
    "    return the_list\n",
    "\n",
    "def viewList(list_name):\n",
    "    for x in list_name:\n",
    "        print(x)\n",
    "    \n",
    "def clearList(list_name):\n",
    "    return list_name.clear()\n",
    "\n",
    "i=0\n",
    "\n",
    "while i > 0 :\n",
    "    the_list = []\n",
    "    \n",
    "    operation = int(input(\"Enter 1 to add new item, 2 to view list, 3 to clear list and 4 to exit\"))\n",
    "    \n",
    "    if operation == 1:\n",
    "        itemToAdd = input(\"Enter Item\")\n",
    "        addItem(itemToAdd)\n",
    "        \n",
    "    elif operation == 2:\n",
    "        viewList(the_list)\n",
    "                \n",
    "    elif operation == 3:\n",
    "        clearList(the_list)\n",
    "        print(\"List cleared!\")\n",
    "    \n",
    "    elif operation == 4:\n",
    "        i=1"
   ]
  },
  {
   "cell_type": "code",
   "execution_count": 17,
   "metadata": {},
   "outputs": [],
   "source": [
    "def addItem(name):\n",
    "    the_list.append(name)\n",
    "    return the_list\n",
    "\n",
    "def viewList(list_name):\n",
    "    for x in list_name:\n",
    "        print(x)\n",
    "    \n",
    "def clearList(list_name):\n",
    "    return list_name.clear()\n",
    "\n",
    "i=1\n",
    "\n",
    "while i < 1 :\n",
    "    the_list = []\n",
    "    \n",
    "    operation = int(input(\"Enter 1 to add new item, 2 to view list, 3 to clear list and 4 to exit\"))\n",
    "    \n",
    "    if operation == 1:\n",
    "        itemToAdd = input(\"Enter Item\")\n",
    "        addItem(itemToAdd)\n",
    "        \n",
    "    elif operation == 2:\n",
    "        viewList(the_list)\n",
    "                \n",
    "    elif operation == 3:\n",
    "        clearList(the_list)\n",
    "        print(\"List cleared!\")\n",
    "    \n",
    "    elif operation == 4:\n",
    "        i=0"
   ]
  },
  {
   "cell_type": "code",
   "execution_count": 18,
   "metadata": {},
   "outputs": [],
   "source": [
    "def addItem(name):\n",
    "    the_list.append(name)\n",
    "    return the_list\n",
    "\n",
    "def viewList(list_name):\n",
    "    for x in list_name:\n",
    "        print(x)\n",
    "    \n",
    "def clearList(list_name):\n",
    "    return list_name.clear()\n",
    "\n",
    "i=1\n",
    "\n",
    "while i > 1 :\n",
    "    the_list = []\n",
    "    \n",
    "    operation = int(input(\"Enter 1 to add new item, 2 to view list, 3 to clear list and 4 to exit\"))\n",
    "    \n",
    "    if operation == 1:\n",
    "        itemToAdd = input(\"Enter Item\")\n",
    "        addItem(itemToAdd)\n",
    "        \n",
    "    elif operation == 2:\n",
    "        viewList(the_list)\n",
    "                \n",
    "    elif operation == 3:\n",
    "        clearList(the_list)\n",
    "        print(\"List cleared!\")\n",
    "    \n",
    "    elif operation == 4:\n",
    "        i=2"
   ]
  },
  {
   "cell_type": "code",
   "execution_count": 20,
   "metadata": {},
   "outputs": [
    {
     "name": "stdout",
     "output_type": "stream",
     "text": [
      "Enter 1 to add new item, 2 to view list, 3 to clear list and 4 to exit1\n",
      "Enter ItemTest\n",
      "Enter 1 to add new item, 2 to view list, 3 to clear list and 4 to exitTest 2\n"
     ]
    },
    {
     "ename": "ValueError",
     "evalue": "invalid literal for int() with base 10: 'Test 2'",
     "output_type": "error",
     "traceback": [
      "\u001b[1;31m---------------------------------------------------------------------------\u001b[0m",
      "\u001b[1;31mValueError\u001b[0m                                Traceback (most recent call last)",
      "\u001b[1;32m<ipython-input-20-a318174286d9>\u001b[0m in \u001b[0;36m<module>\u001b[1;34m\u001b[0m\n\u001b[0;32m     15\u001b[0m     \u001b[0mthe_list\u001b[0m \u001b[1;33m=\u001b[0m \u001b[1;33m[\u001b[0m\u001b[1;33m]\u001b[0m\u001b[1;33m\u001b[0m\u001b[1;33m\u001b[0m\u001b[0m\n\u001b[0;32m     16\u001b[0m \u001b[1;33m\u001b[0m\u001b[0m\n\u001b[1;32m---> 17\u001b[1;33m     \u001b[0moperation\u001b[0m \u001b[1;33m=\u001b[0m \u001b[0mint\u001b[0m\u001b[1;33m(\u001b[0m\u001b[0minput\u001b[0m\u001b[1;33m(\u001b[0m\u001b[1;34m\"Enter 1 to add new item, 2 to view list, 3 to clear list and 4 to exit\"\u001b[0m\u001b[1;33m)\u001b[0m\u001b[1;33m)\u001b[0m\u001b[1;33m\u001b[0m\u001b[1;33m\u001b[0m\u001b[0m\n\u001b[0m\u001b[0;32m     18\u001b[0m \u001b[1;33m\u001b[0m\u001b[0m\n\u001b[0;32m     19\u001b[0m     \u001b[1;32mif\u001b[0m \u001b[0moperation\u001b[0m \u001b[1;33m==\u001b[0m \u001b[1;36m1\u001b[0m\u001b[1;33m:\u001b[0m\u001b[1;33m\u001b[0m\u001b[1;33m\u001b[0m\u001b[0m\n",
      "\u001b[1;31mValueError\u001b[0m: invalid literal for int() with base 10: 'Test 2'"
     ]
    }
   ],
   "source": [
    "def addItem(name):\n",
    "    the_list.append(name)\n",
    "    return the_list\n",
    "\n",
    "def viewList(list_name):\n",
    "    for x in list_name:\n",
    "        print(x)\n",
    "    \n",
    "def clearList(list_name):\n",
    "    return list_name.clear()\n",
    "\n",
    "i=0\n",
    "\n",
    "while i < 1 :\n",
    "    the_list = []\n",
    "    \n",
    "    operation = int(input(\"Enter 1 to add new item, 2 to view list, 3 to clear list and 4 to exit\"))\n",
    "    \n",
    "    if operation == 1:\n",
    "        itemToAdd = input(\"Enter Item\")\n",
    "        addItem(itemToAdd)\n",
    "        \n",
    "    elif operation == 2:\n",
    "        viewList(the_list)\n",
    "                \n",
    "    elif operation == 3:\n",
    "        clearList(the_list)\n",
    "        print(\"List cleared!\")\n",
    "    \n",
    "    elif operation == 4:\n",
    "        i=1"
   ]
  },
  {
   "cell_type": "code",
   "execution_count": null,
   "metadata": {},
   "outputs": [
    {
     "name": "stdout",
     "output_type": "stream",
     "text": [
      "Enter 1 to add new item, 2 to view list, 3 to clear list and 4 to exit1\n",
      "Enter ItemTesting1\n",
      "Enter 1 to add new item, 2 to view list, 3 to clear list and 4 to exit1\n",
      "Enter ItemTesting2\n",
      "Enter 1 to add new item, 2 to view list, 3 to clear list and 4 to exit1\n",
      "Enter ItemTesting3\n",
      "Enter 1 to add new item, 2 to view list, 3 to clear list and 4 to exit2\n",
      "Enter 1 to add new item, 2 to view list, 3 to clear list and 4 to exit2\n"
     ]
    }
   ],
   "source": [
    "the_list = []\n",
    "\n",
    "def addItem(name):\n",
    "    the_list.append(name)\n",
    "    return the_list\n",
    "\n",
    "def viewList(list_name):\n",
    "    for x in list_name:\n",
    "        print(x)\n",
    "    \n",
    "def clearList(list_name):\n",
    "    return list_name.clear()\n",
    "\n",
    "i=0\n",
    "\n",
    "while i < 1 :\n",
    "    \n",
    "    operation = int(input(\"Enter 1 to add new item, 2 to view list, 3 to clear list and 4 to exit\"))\n",
    "    \n",
    "    if operation == 1:\n",
    "        itemToAdd = input(\"Enter Item\")\n",
    "        addItem(itemToAdd)\n",
    "        \n",
    "    elif operation == 2:\n",
    "        viewList(the_list)\n",
    "                \n",
    "    elif operation == 3:\n",
    "        clearList(the_list)\n",
    "        print(\"List cleared!\")\n",
    "    \n",
    "    elif operation == 4:\n",
    "        i=1"
   ]
  },
  {
   "cell_type": "code",
   "execution_count": null,
   "metadata": {},
   "outputs": [],
   "source": [
    "the_list = []\n",
    "\n",
    "def addItem(name):\n",
    "    the_list.append(name)\n",
    "    return the_list\n",
    "\n",
    "def viewList(list_name):\n",
    "    for x in list_name:\n",
    "        print(x)\n",
    "    \n",
    "def clearList(list_name):\n",
    "    return list_name.clear()\n",
    "\n",
    "i=0\n",
    "\n",
    "while i < 1 :\n",
    "    \n",
    "    operation = int(input(\"Enter 1 to add new item, 2 to view list, 3 to clear list and 4 to exit\"))\n",
    "    \n",
    "    if operation == 1:\n",
    "        itemToAdd = input(\"Enter Item\")\n",
    "        addItem(itemToAdd)\n",
    "        \n",
    "    elif operation == 2:\n",
    "        viewList(the_list)\n",
    "                \n",
    "    elif operation == 3:\n",
    "        clearList(the_list)\n",
    "        print(\"List cleared!\")\n",
    "    \n",
    "    elif operation == 4:\n",
    "        i=1"
   ]
  },
  {
   "cell_type": "code",
   "execution_count": null,
   "metadata": {},
   "outputs": [],
   "source": [
    "the_list = []\n",
    "\n",
    "def addItem(name):\n",
    "    the_list.append(name)\n",
    "    return the_list\n",
    "\n",
    "def viewList(list_name):\n",
    "    for x in list_name:\n",
    "        print(x)\n",
    "    \n",
    "def clearList(list_name):\n",
    "    return list_name.clear()\n",
    "\n",
    "i=0\n",
    "\n",
    "while i < 1 :\n",
    "    \n",
    "    operation = int(input(\"Enter 1 to add new item, 2 to view list, 3 to clear list and 4 to exit\"))\n",
    "    \n",
    "    if operation == 1:\n",
    "        itemToAdd = input(\"Enter Item\")\n",
    "        addItem(itemToAdd)\n",
    "        \n",
    "    elif operation == 2:\n",
    "        viewList(the_list)\n",
    "                \n",
    "    elif operation == 3:\n",
    "        clearList(the_list)\n",
    "        print(\"List cleared!\")\n",
    "    \n",
    "    elif operation == 4:\n",
    "        i=1"
   ]
  },
  {
   "cell_type": "code",
   "execution_count": null,
   "metadata": {},
   "outputs": [],
   "source": [
    "\n",
    "def addItem(name):\n",
    "    the_list.append(name)\n",
    "    return the_list\n",
    "\n",
    "def viewList(list_name):\n",
    "    for x in list_name:\n",
    "        print(x)\n",
    "    \n",
    "def clearList(list_name):\n",
    "    return list_name.clear()\n",
    "\n",
    "i=0\n",
    "\n",
    "while i < 1 :\n",
    "    the_list = []\n",
    "\n",
    "    operation = int(input(\"Enter 1 to add new item, 2 to view list, 3 to clear list and 4 to exit\"))\n",
    "    \n",
    "    if operation == 1:\n",
    "        itemToAdd = input(\"Enter Item\")\n",
    "        addItem(itemToAdd)\n",
    "        \n",
    "    elif operation == 2:\n",
    "        viewList(the_list)\n",
    "                \n",
    "    elif operation == 3:\n",
    "        clearList(the_list)\n",
    "        print(\"List cleared!\")\n",
    "    \n",
    "    elif operation == 4:\n",
    "        i=1"
   ]
  },
  {
   "cell_type": "code",
   "execution_count": null,
   "metadata": {},
   "outputs": [],
   "source": [
    "\n",
    "def addItem(name):\n",
    "    the_list.append(name)\n",
    "    return the_list\n",
    "\n",
    "def viewList(list_name):\n",
    "    for x in list_name:\n",
    "        print(x)\n",
    "    \n",
    "def clearList(list_name):\n",
    "    return list_name.clear()\n",
    "\n",
    "i=0\n",
    "\n",
    "while i < 1 :\n",
    "    \n",
    "    the_list = []\n",
    "\n",
    "    operation = int(input(\"Enter 1 to add new item, 2 to view list, 3 to clear list and 4 to exit\"))\n",
    "    \n",
    "    if operation == 1:\n",
    "        itemToAdd = input(\"Enter Item\")\n",
    "        addItem(itemToAdd)\n",
    "        \n",
    "    elif operation == 2:\n",
    "        viewList(the_list)\n",
    "                \n",
    "    elif operation == 3:\n",
    "        clearList(the_list)\n",
    "        print(\"List cleared!\")\n",
    "    \n",
    "    elif operation == 4:\n",
    "        i=1"
   ]
  },
  {
   "cell_type": "code",
   "execution_count": null,
   "metadata": {},
   "outputs": [],
   "source": [
    "def addItem(list_name,name):\n",
    "    list_name.append(name)\n",
    "    return list_name\n",
    "\n",
    "def viewList(list_name):\n",
    "    for x in list_name:\n",
    "        print(x)\n",
    "    \n",
    "def clearList(list_name):\n",
    "    return list_name.clear()\n",
    "\n",
    "i=0\n",
    "\n",
    "while i < 1 :\n",
    "    \n",
    "    the_list = []\n",
    "\n",
    "    operation = int(input(\"Enter 1 to add new item, 2 to view list, 3 to clear list and 4 to exit\"))\n",
    "    \n",
    "    if operation == 1:\n",
    "        itemToAdd = input(\"Enter Item\")\n",
    "        addItem(the_list,itemToAdd)\n",
    "        \n",
    "    elif operation == 2:\n",
    "        viewList(the_list)\n",
    "                \n",
    "    elif operation == 3:\n",
    "        clearList(the_list)\n",
    "        print(\"List cleared!\")\n",
    "    \n",
    "    elif operation == 4:\n",
    "        i=1"
   ]
  },
  {
   "cell_type": "code",
   "execution_count": null,
   "metadata": {},
   "outputs": [],
   "source": [
    "def addItem(list_name,name):\n",
    "    list_name.append(name)\n",
    "    return list_name\n",
    "\n",
    "def viewList(list_name):\n",
    "    for x in list_name:\n",
    "        print(x)\n",
    "    \n",
    "def clearList(list_name):\n",
    "    return list_name.clear()\n",
    "\n",
    "i=0\n",
    "\n",
    "while i < 1 :\n",
    "    \n",
    "    the_list = []\n",
    "\n",
    "    operation = int(input(\"Enter 1 to add new item, 2 to view list, 3 to clear list and 4 to exit\"))\n",
    "    \n",
    "    if operation == 1:\n",
    "        itemToAdd = input(\"Enter Item\")\n",
    "        addItem(the_list,itemToAdd)\n",
    "        \n",
    "    elif operation == 2:\n",
    "        viewList(the_list)\n",
    "                \n",
    "    elif operation == 3:\n",
    "        clearList(the_list)\n",
    "        print(\"List cleared!\")\n",
    "    \n",
    "    elif operation == 4:\n",
    "        i=0"
   ]
  },
  {
   "cell_type": "code",
   "execution_count": null,
   "metadata": {},
   "outputs": [],
   "source": [
    "def addItem(list_name,name):\n",
    "    list_name.append(name)\n",
    "    return list_name\n",
    "\n",
    "def viewList(list_name):\n",
    "    for x in list_name:\n",
    "        print(x)\n",
    "    \n",
    "def clearList(list_name):\n",
    "    return list_name.clear()\n",
    "\n",
    "i=0\n",
    "\n",
    "while i < 1 :\n",
    "    print('in')\n",
    "    the_list = []\n",
    "\n",
    "    operation = int(input(\"Enter 1 to add new item, 2 to view list, 3 to clear list and 4 to exit\"))\n",
    "    \n",
    "    if operation == 1:\n",
    "        itemToAdd = input(\"Enter Item\")\n",
    "        addItem(the_list,itemToAdd)\n",
    "        \n",
    "    elif operation == 2:\n",
    "        viewList(the_list)\n",
    "                \n",
    "    elif operation == 3:\n",
    "        clearList(the_list)\n",
    "        print(\"List cleared!\")\n",
    "    \n",
    "    elif operation == 4:\n",
    "        i=1"
   ]
  },
  {
   "cell_type": "code",
   "execution_count": null,
   "metadata": {},
   "outputs": [],
   "source": [
    "def addItem(list_name,name):\n",
    "    list_name.append(name)\n",
    "    return list_name\n",
    "\n",
    "def viewList(list_name):\n",
    "    for x in list_name:\n",
    "        print(x)\n",
    "    \n",
    "def clearList(list_name):\n",
    "    return list_name.clear()\n",
    "\n",
    "i=0\n",
    "print('in')\n",
    "while i < 1 :\n",
    "    \n",
    "    the_list = []\n",
    "\n",
    "    operation = int(input(\"Enter 1 to add new item, 2 to view list, 3 to clear list and 4 to exit\"))\n",
    "    \n",
    "    if operation == 1:\n",
    "        itemToAdd = input(\"Enter Item\")\n",
    "        addItem(the_list,itemToAdd)\n",
    "        \n",
    "    elif operation == 2:\n",
    "        viewList(the_list)\n",
    "                \n",
    "    elif operation == 3:\n",
    "        clearList(the_list)\n",
    "        print(\"List cleared!\")\n",
    "    \n",
    "    elif operation == 4:\n",
    "        i=1"
   ]
  },
  {
   "cell_type": "code",
   "execution_count": null,
   "metadata": {},
   "outputs": [
    {
     "name": "stdout",
     "output_type": "stream",
     "text": [
      "in\n",
      "Enter 1 to add new item, 2 to view list, 3 to clear list and 4 to exit1\n",
      "Enter ItemTest1\n",
      "Enter 1 to add new item, 2 to view list, 3 to clear list and 4 to exit1\n",
      "Enter ItemTest2\n",
      "Enter 1 to add new item, 2 to view list, 3 to clear list and 4 to exit2\n",
      "Enter 1 to add new item, 2 to view list, 3 to clear list and 4 to exit2\n"
     ]
    }
   ],
   "source": [
    "print('in')\n",
    "def addItem(list_name,name):\n",
    "    list_name.append(name)\n",
    "    return list_name\n",
    "\n",
    "def viewList(list_name):\n",
    "    for x in list_name:\n",
    "        print(x)\n",
    "    \n",
    "def clearList(list_name):\n",
    "    return list_name.clear()\n",
    "\n",
    "i=0\n",
    "\n",
    "while i < 1 :\n",
    "    \n",
    "    the_list = []\n",
    "\n",
    "    operation = int(input(\"Enter 1 to add new item, 2 to view list, 3 to clear list and 4 to exit\"))\n",
    "    \n",
    "    if operation == 1:\n",
    "        itemToAdd = input(\"Enter Item\")\n",
    "        addItem(the_list,itemToAdd)\n",
    "        \n",
    "    elif operation == 2:\n",
    "        viewList(the_list)\n",
    "                \n",
    "    elif operation == 3:\n",
    "        clearList(the_list)\n",
    "        print(\"List cleared!\")\n",
    "    \n",
    "    elif operation == 4:\n",
    "        i=1"
   ]
  },
  {
   "cell_type": "code",
   "execution_count": 2,
   "metadata": {},
   "outputs": [
    {
     "name": "stdout",
     "output_type": "stream",
     "text": [
      "in\n",
      "Enter 1 to add new item, 2 to view list, 3 to clear list and 4 to exit1\n",
      "Enter Itemtest1\n",
      "Enter 1 to add new item, 2 to view list, 3 to clear list and 4 to exit1\n",
      "Enter Itemtest2\n",
      "Enter 1 to add new item, 2 to view list, 3 to clear list and 4 to exit2\n",
      "None\n",
      "Enter 1 to add new item, 2 to view list, 3 to clear list and 4 to exit4\n"
     ]
    }
   ],
   "source": [
    "the_list = []\n",
    "\n",
    "def addItem(list_name,name):\n",
    "    list_name.append(name)\n",
    "    return list_name\n",
    "\n",
    "def viewList(list_name):\n",
    "    for x in list_name:\n",
    "        print(x)\n",
    "    \n",
    "def clearList(list_name):\n",
    "    return list_name.clear()\n",
    "\n",
    "i=0\n",
    "\n",
    "while i < 1 :\n",
    "\n",
    "    operation = int(input(\"Enter 1 to add new item, 2 to view list, 3 to clear list and 4 to exit\"))\n",
    "    \n",
    "    if operation == 1:\n",
    "        itemToAdd = input(\"Enter Item\")\n",
    "        addItem(the_list,itemToAdd)\n",
    "        \n",
    "    elif operation == 2:\n",
    "        print(viewList(the_list))\n",
    "                \n",
    "    elif operation == 3:\n",
    "        clearList(the_list)\n",
    "        print(\"List cleared!\")\n",
    "    \n",
    "    elif operation == 4:\n",
    "        i=1"
   ]
  },
  {
   "cell_type": "code",
   "execution_count": null,
   "metadata": {},
   "outputs": [
    {
     "name": "stdout",
     "output_type": "stream",
     "text": [
      "Enter 1 to add new item, 2 to view list, 3 to clear list and 4 to exit1\n",
      "Enter Itemtest1\n",
      "Enter 1 to add new item, 2 to view list, 3 to clear list and 4 to exit1\n",
      "Enter Itemtest2\n",
      "Enter 1 to add new item, 2 to view list, 3 to clear list and 4 to exit2\n",
      "test1\n",
      "test2\n",
      "None\n",
      "Enter 1 to add new item, 2 to view list, 3 to clear list and 4 to exit3\n",
      "List cleared!\n",
      "Enter 1 to add new item, 2 to view list, 3 to clear list and 4 to exit2\n",
      "None\n",
      "Enter 1 to add new item, 2 to view list, 3 to clear list and 4 to exit1\n",
      "Enter ItemTest2\n",
      "Enter 1 to add new item, 2 to view list, 3 to clear list and 4 to exit2\n",
      "Test2\n",
      "None\n"
     ]
    }
   ],
   "source": [
    "the_list = []\n",
    "\n",
    "def addItem(list_name,name):\n",
    "    list_name.append(name)\n",
    "    return list_name\n",
    "\n",
    "def viewList(list_name):\n",
    "    for x in list_name:\n",
    "        print(x)\n",
    "    \n",
    "def clearList(list_name):\n",
    "    return list_name.clear()\n",
    "\n",
    "i=0\n",
    "\n",
    "while i < 1 :\n",
    "\n",
    "    operation = int(input(\"Enter 1 to add new item, 2 to view list, 3 to clear list and 4 to exit\"))\n",
    "    \n",
    "    if operation == 1:\n",
    "        itemToAdd = input(\"Enter Item\")\n",
    "        addItem(the_list,itemToAdd)\n",
    "        \n",
    "    elif operation == 2:\n",
    "        print(viewList(the_list))\n",
    "                \n",
    "    elif operation == 3:\n",
    "        clearList(the_list)\n",
    "        print(\"List cleared!\")\n",
    "    \n",
    "    elif operation == 4:\n",
    "        i=1"
   ]
  },
  {
   "cell_type": "code",
   "execution_count": null,
   "metadata": {},
   "outputs": [],
   "source": []
  }
 ],
 "metadata": {
  "kernelspec": {
   "display_name": "Python 3",
   "language": "python",
   "name": "python3"
  },
  "language_info": {
   "codemirror_mode": {
    "name": "ipython",
    "version": 3
   },
   "file_extension": ".py",
   "mimetype": "text/x-python",
   "name": "python",
   "nbconvert_exporter": "python",
   "pygments_lexer": "ipython3",
   "version": "3.7.4"
  }
 },
 "nbformat": 4,
 "nbformat_minor": 2
}
